{
  "nbformat": 4,
  "nbformat_minor": 0,
  "metadata": {
    "colab": {
      "provenance": [],
      "collapsed_sections": [
        "d9LIGg1U6Zcs",
        "kNffu_2_HxSy",
        "RHEBXjluHzc1",
        "VkaRLMHMIKqK",
        "RpXktQOcINfN"
      ]
    },
    "kernelspec": {
      "name": "python3",
      "display_name": "Python 3"
    }
  },
  "cells": [
    {
      "cell_type": "markdown",
      "metadata": {
        "id": "d9LIGg1U6Zcs"
      },
      "source": [
        "###1) Rode o mesmo programa nos dados contendo anos de escolaridade (primeira coluna) versus salário (segunda coluna). Esse exemplo foi trabalhado em sala de aula em várias ocasiões. Os itens a seguir devem ser respondidos usando esses dados.\n",
        "\n"
      ]
    },
    {
      "cell_type": "code",
      "metadata": {
        "id": "M15NjfEz8aN0"
      },
      "source": [
        "from numpy import *"
      ],
      "execution_count": null,
      "outputs": []
    },
    {
      "cell_type": "code",
      "metadata": {
        "id": "Rc3eTGKV6WYy"
      },
      "source": [
        "datasetCSV = 'https://gist.githubusercontent.com/AramisAraujo/0009d230ee2f9d2199d30663b314ff88/raw/f498619e16a5ebd1b292c554c072e3e7af300f54/CDP%2520regress%25C3%25A3o.csv'\n"
      ],
      "execution_count": null,
      "outputs": []
    },
    {
      "cell_type": "code",
      "metadata": {
        "id": "arF7V54F8H9_"
      },
      "source": [
        "def run():\n",
        "  points = genfromtxt(datasetCSV, delimiter=',')\n",
        "  #Hyperparameters\n",
        "  \n",
        "  \n",
        "  #how fast the model learns\n",
        "  learningRate = 0.0001\n",
        "  \n",
        "  # y = mx + b (slope formula)\n",
        "  initialB = 0\n",
        "  initialM = 0\n",
        "  \n",
        "  #How many training step iterations\n",
        "  numIterations = 1000\n",
        "  \n",
        "  [b, m] = gradientDescentRunner(points, initialB, initialM, learningRate, numIterations)\n",
        "  \n",
        "  print(b)\n",
        "  print(m)"
      ],
      "execution_count": null,
      "outputs": []
    },
    {
      "cell_type": "code",
      "metadata": {
        "id": "HTM9Emmf-IZq"
      },
      "source": [
        "def gradientDescentRunner(points, startingB, startingM, learningRate, numIterations):\n",
        "  # y = Mx + B\n",
        "  b = startingB\n",
        "  m = startingM\n",
        "  \n",
        "  for i in range(numIterations): \n",
        "    b, m = stepGradient(b, m, array(points), learningRate)\n",
        "    \n",
        "  return [b, m]\n",
        "  "
      ],
      "execution_count": null,
      "outputs": []
    },
    {
      "cell_type": "code",
      "metadata": {
        "id": "CPAMUaPz-p5d"
      },
      "source": [
        "def stepGradient(bCurrent, mCurrent, points, learningRate):\n",
        "  #Gradient descent\n",
        "  \n",
        "  bGradient = 0\n",
        "  mGradient = 0\n",
        "  \n",
        "  N = float(len(points))\n",
        "  \n",
        "  for i in range(0, len(points)):\n",
        "    x = points[i, 0]\n",
        "    y = points[i, 1]\n",
        "    \n",
        "    bGradient += -(2/N) * (y - ((mCurrent *x) + bCurrent))\n",
        "    mGradient += -(2/N) * x * (y - ((mCurrent * x) + bCurrent))\n",
        "    \n",
        "  newB = bCurrent - (learningRate * bGradient)\n",
        "  newM = mCurrent - (learningRate * mGradient)\n",
        "  \n",
        "  return [newB, newM]"
      ],
      "execution_count": null,
      "outputs": []
    },
    {
      "cell_type": "code",
      "metadata": {
        "id": "eybT8tbN-x5T"
      },
      "source": [
        "def computeErrorForGivenPoints(b, m, points):\n",
        "  totalError = 0\n",
        "  \n",
        "  for i in range(0, len(points)):\n",
        "    x = points[i, 0]\n",
        "    y = points[i, 1]\n",
        "    \n",
        "    totalError += (y - (m * x + b)) ** 2\n",
        "    \n",
        "  return totalError / float(len(points))"
      ],
      "execution_count": null,
      "outputs": []
    },
    {
      "cell_type": "code",
      "metadata": {
        "id": "Vhzn9rbTF6jQ",
        "outputId": "207e12a1-426a-44f8-f1a5-dab3e7b4973e",
        "colab": {
          "base_uri": "https://localhost:8080/",
          "height": 51
        }
      },
      "source": [
        "run()"
      ],
      "execution_count": null,
      "outputs": [
        {
          "output_type": "stream",
          "text": [
            "-0.18234255376510086\n",
            "3.262182267596014\n"
          ],
          "name": "stdout"
        }
      ]
    },
    {
      "cell_type": "markdown",
      "metadata": {
        "id": "kNffu_2_HxSy"
      },
      "source": [
        "###2) Modifique o código original para imprimir o RSS a cada iteração do gradiente descendente. Gere um plot mostrando o RSS por interação.\n",
        "\n"
      ]
    },
    {
      "cell_type": "code",
      "metadata": {
        "id": "CNpEzdnXLUQu"
      },
      "source": [
        "import pandas as pd\n",
        "import matplotlib.pyplot as plt\n",
        "from IPython.display import display, HTML\n",
        "%matplotlib inline\n"
      ],
      "execution_count": null,
      "outputs": []
    },
    {
      "cell_type": "code",
      "metadata": {
        "id": "7Un3sqESIX47"
      },
      "source": [
        "def runShowRSS():\n",
        "  points = genfromtxt(datasetCSV, delimiter=',')\n",
        "  #Hyperparameters\n",
        "  \n",
        "  \n",
        "  #how fast the model learns\n",
        "  learningRate = 0.0001\n",
        "  \n",
        "  # y = mx + b (slope formula)\n",
        "  initialB = 0\n",
        "  initialM = 0\n",
        "  \n",
        "  #How many training step iterations\n",
        "  numIterations = 1000\n",
        "  \n",
        "  [b, m], errors = gradientDescentRunnerRSS(points, initialB, initialM, learningRate, numIterations)\n",
        "  \n",
        "  print(b)\n",
        "  print(m)\n",
        "  return errors"
      ],
      "execution_count": null,
      "outputs": []
    },
    {
      "cell_type": "code",
      "metadata": {
        "id": "eQHOyxpPIb4K"
      },
      "source": [
        "def gradientDescentRunnerRSS(points, startingB, startingM, learningRate, numIterations):\n",
        "  # y = Mx + B\n",
        "  b = startingB\n",
        "  m = startingM\n",
        "  \n",
        "\n",
        "  errors = []\n",
        "  for i in range(numIterations): \n",
        "    b, m = stepGradient(b, m, array(points), learningRate)\n",
        "    errors.append(computeErrorForGivenPoints(b, m, points))\n",
        "    \n",
        "  rss = pd.DataFrame()\n",
        "  rss['Error'] = errors\n",
        "  \n",
        "  return [b, m], rss"
      ],
      "execution_count": null,
      "outputs": []
    },
    {
      "cell_type": "code",
      "metadata": {
        "id": "i5I-jOJ6IcA7",
        "outputId": "85fa2d5d-5e3e-412d-8a4c-53fb81514c32",
        "colab": {
          "base_uri": "https://localhost:8080/"
        }
      },
      "source": [
        "errors = runShowRSS()"
      ],
      "execution_count": null,
      "outputs": [
        {
          "output_type": "stream",
          "text": [
            "-0.18234255376510086\n",
            "3.262182267596014\n"
          ],
          "name": "stdout"
        }
      ]
    },
    {
      "cell_type": "code",
      "metadata": {
        "id": "Y5TKEk2ANfLd",
        "outputId": "01659f67-07a9-4db6-e218-23f58acc38f1",
        "colab": {
          "base_uri": "https://localhost:8080/"
        }
      },
      "source": [
        "display(errors)"
      ],
      "execution_count": null,
      "outputs": [
        {
          "output_type": "display_data",
          "data": {
            "text/html": [
              "<div>\n",
              "<style scoped>\n",
              "    .dataframe tbody tr th:only-of-type {\n",
              "        vertical-align: middle;\n",
              "    }\n",
              "\n",
              "    .dataframe tbody tr th {\n",
              "        vertical-align: top;\n",
              "    }\n",
              "\n",
              "    .dataframe thead th {\n",
              "        text-align: right;\n",
              "    }\n",
              "</style>\n",
              "<table border=\"1\" class=\"dataframe\">\n",
              "  <thead>\n",
              "    <tr style=\"text-align: right;\">\n",
              "      <th></th>\n",
              "      <th>Error</th>\n",
              "    </tr>\n",
              "  </thead>\n",
              "  <tbody>\n",
              "    <tr>\n",
              "      <th>0</th>\n",
              "      <td>2648.238127</td>\n",
              "    </tr>\n",
              "    <tr>\n",
              "      <th>1</th>\n",
              "      <td>2381.173593</td>\n",
              "    </tr>\n",
              "    <tr>\n",
              "      <th>2</th>\n",
              "      <td>2142.151014</td>\n",
              "    </tr>\n",
              "    <tr>\n",
              "      <th>3</th>\n",
              "      <td>1928.225950</td>\n",
              "    </tr>\n",
              "    <tr>\n",
              "      <th>4</th>\n",
              "      <td>1736.763131</td>\n",
              "    </tr>\n",
              "    <tr>\n",
              "      <th>5</th>\n",
              "      <td>1565.403995</td>\n",
              "    </tr>\n",
              "    <tr>\n",
              "      <th>6</th>\n",
              "      <td>1412.037629</td>\n",
              "    </tr>\n",
              "    <tr>\n",
              "      <th>7</th>\n",
              "      <td>1274.774770</td>\n",
              "    </tr>\n",
              "    <tr>\n",
              "      <th>8</th>\n",
              "      <td>1151.924531</td>\n",
              "    </tr>\n",
              "    <tr>\n",
              "      <th>9</th>\n",
              "      <td>1041.973568</td>\n",
              "    </tr>\n",
              "    <tr>\n",
              "      <th>10</th>\n",
              "      <td>943.567442</td>\n",
              "    </tr>\n",
              "    <tr>\n",
              "      <th>11</th>\n",
              "      <td>855.493931</td>\n",
              "    </tr>\n",
              "    <tr>\n",
              "      <th>12</th>\n",
              "      <td>776.668097</td>\n",
              "    </tr>\n",
              "    <tr>\n",
              "      <th>13</th>\n",
              "      <td>706.118923</td>\n",
              "    </tr>\n",
              "    <tr>\n",
              "      <th>14</th>\n",
              "      <td>642.977350</td>\n",
              "    </tr>\n",
              "    <tr>\n",
              "      <th>15</th>\n",
              "      <td>586.465569</td>\n",
              "    </tr>\n",
              "    <tr>\n",
              "      <th>16</th>\n",
              "      <td>535.887446</td>\n",
              "    </tr>\n",
              "    <tr>\n",
              "      <th>17</th>\n",
              "      <td>490.619938</td>\n",
              "    </tr>\n",
              "    <tr>\n",
              "      <th>18</th>\n",
              "      <td>450.105424</td>\n",
              "    </tr>\n",
              "    <tr>\n",
              "      <th>19</th>\n",
              "      <td>413.844835</td>\n",
              "    </tr>\n",
              "    <tr>\n",
              "      <th>20</th>\n",
              "      <td>381.391502</td>\n",
              "    </tr>\n",
              "    <tr>\n",
              "      <th>21</th>\n",
              "      <td>352.345659</td>\n",
              "    </tr>\n",
              "    <tr>\n",
              "      <th>22</th>\n",
              "      <td>326.349516</td>\n",
              "    </tr>\n",
              "    <tr>\n",
              "      <th>23</th>\n",
              "      <td>303.082851</td>\n",
              "    </tr>\n",
              "    <tr>\n",
              "      <th>24</th>\n",
              "      <td>282.259064</td>\n",
              "    </tr>\n",
              "    <tr>\n",
              "      <th>25</th>\n",
              "      <td>263.621651</td>\n",
              "    </tr>\n",
              "    <tr>\n",
              "      <th>26</th>\n",
              "      <td>246.941039</td>\n",
              "    </tr>\n",
              "    <tr>\n",
              "      <th>27</th>\n",
              "      <td>232.011763</td>\n",
              "    </tr>\n",
              "    <tr>\n",
              "      <th>28</th>\n",
              "      <td>218.649929</td>\n",
              "    </tr>\n",
              "    <tr>\n",
              "      <th>29</th>\n",
              "      <td>206.690955</td>\n",
              "    </tr>\n",
              "    <tr>\n",
              "      <th>...</th>\n",
              "      <td>...</td>\n",
              "    </tr>\n",
              "    <tr>\n",
              "      <th>970</th>\n",
              "      <td>103.439016</td>\n",
              "    </tr>\n",
              "    <tr>\n",
              "      <th>971</th>\n",
              "      <td>103.437616</td>\n",
              "    </tr>\n",
              "    <tr>\n",
              "      <th>972</th>\n",
              "      <td>103.436216</td>\n",
              "    </tr>\n",
              "    <tr>\n",
              "      <th>973</th>\n",
              "      <td>103.434816</td>\n",
              "    </tr>\n",
              "    <tr>\n",
              "      <th>974</th>\n",
              "      <td>103.433416</td>\n",
              "    </tr>\n",
              "    <tr>\n",
              "      <th>975</th>\n",
              "      <td>103.432016</td>\n",
              "    </tr>\n",
              "    <tr>\n",
              "      <th>976</th>\n",
              "      <td>103.430616</td>\n",
              "    </tr>\n",
              "    <tr>\n",
              "      <th>977</th>\n",
              "      <td>103.429216</td>\n",
              "    </tr>\n",
              "    <tr>\n",
              "      <th>978</th>\n",
              "      <td>103.427816</td>\n",
              "    </tr>\n",
              "    <tr>\n",
              "      <th>979</th>\n",
              "      <td>103.426416</td>\n",
              "    </tr>\n",
              "    <tr>\n",
              "      <th>980</th>\n",
              "      <td>103.425016</td>\n",
              "    </tr>\n",
              "    <tr>\n",
              "      <th>981</th>\n",
              "      <td>103.423616</td>\n",
              "    </tr>\n",
              "    <tr>\n",
              "      <th>982</th>\n",
              "      <td>103.422216</td>\n",
              "    </tr>\n",
              "    <tr>\n",
              "      <th>983</th>\n",
              "      <td>103.420816</td>\n",
              "    </tr>\n",
              "    <tr>\n",
              "      <th>984</th>\n",
              "      <td>103.419417</td>\n",
              "    </tr>\n",
              "    <tr>\n",
              "      <th>985</th>\n",
              "      <td>103.418017</td>\n",
              "    </tr>\n",
              "    <tr>\n",
              "      <th>986</th>\n",
              "      <td>103.416617</td>\n",
              "    </tr>\n",
              "    <tr>\n",
              "      <th>987</th>\n",
              "      <td>103.415217</td>\n",
              "    </tr>\n",
              "    <tr>\n",
              "      <th>988</th>\n",
              "      <td>103.413818</td>\n",
              "    </tr>\n",
              "    <tr>\n",
              "      <th>989</th>\n",
              "      <td>103.412418</td>\n",
              "    </tr>\n",
              "    <tr>\n",
              "      <th>990</th>\n",
              "      <td>103.411018</td>\n",
              "    </tr>\n",
              "    <tr>\n",
              "      <th>991</th>\n",
              "      <td>103.409619</td>\n",
              "    </tr>\n",
              "    <tr>\n",
              "      <th>992</th>\n",
              "      <td>103.408219</td>\n",
              "    </tr>\n",
              "    <tr>\n",
              "      <th>993</th>\n",
              "      <td>103.406820</td>\n",
              "    </tr>\n",
              "    <tr>\n",
              "      <th>994</th>\n",
              "      <td>103.405420</td>\n",
              "    </tr>\n",
              "    <tr>\n",
              "      <th>995</th>\n",
              "      <td>103.404021</td>\n",
              "    </tr>\n",
              "    <tr>\n",
              "      <th>996</th>\n",
              "      <td>103.402621</td>\n",
              "    </tr>\n",
              "    <tr>\n",
              "      <th>997</th>\n",
              "      <td>103.401222</td>\n",
              "    </tr>\n",
              "    <tr>\n",
              "      <th>998</th>\n",
              "      <td>103.399822</td>\n",
              "    </tr>\n",
              "    <tr>\n",
              "      <th>999</th>\n",
              "      <td>103.398423</td>\n",
              "    </tr>\n",
              "  </tbody>\n",
              "</table>\n",
              "<p>1000 rows × 1 columns</p>\n",
              "</div>"
            ],
            "text/plain": [
              "           Error\n",
              "0    2648.238127\n",
              "1    2381.173593\n",
              "2    2142.151014\n",
              "3    1928.225950\n",
              "4    1736.763131\n",
              "5    1565.403995\n",
              "6    1412.037629\n",
              "7    1274.774770\n",
              "8    1151.924531\n",
              "9    1041.973568\n",
              "10    943.567442\n",
              "11    855.493931\n",
              "12    776.668097\n",
              "13    706.118923\n",
              "14    642.977350\n",
              "15    586.465569\n",
              "16    535.887446\n",
              "17    490.619938\n",
              "18    450.105424\n",
              "19    413.844835\n",
              "20    381.391502\n",
              "21    352.345659\n",
              "22    326.349516\n",
              "23    303.082851\n",
              "24    282.259064\n",
              "25    263.621651\n",
              "26    246.941039\n",
              "27    232.011763\n",
              "28    218.649929\n",
              "29    206.690955\n",
              "..           ...\n",
              "970   103.439016\n",
              "971   103.437616\n",
              "972   103.436216\n",
              "973   103.434816\n",
              "974   103.433416\n",
              "975   103.432016\n",
              "976   103.430616\n",
              "977   103.429216\n",
              "978   103.427816\n",
              "979   103.426416\n",
              "980   103.425016\n",
              "981   103.423616\n",
              "982   103.422216\n",
              "983   103.420816\n",
              "984   103.419417\n",
              "985   103.418017\n",
              "986   103.416617\n",
              "987   103.415217\n",
              "988   103.413818\n",
              "989   103.412418\n",
              "990   103.411018\n",
              "991   103.409619\n",
              "992   103.408219\n",
              "993   103.406820\n",
              "994   103.405420\n",
              "995   103.404021\n",
              "996   103.402621\n",
              "997   103.401222\n",
              "998   103.399822\n",
              "999   103.398423\n",
              "\n",
              "[1000 rows x 1 columns]"
            ]
          },
          "metadata": {
            "tags": []
          }
        }
      ]
    },
    {
      "cell_type": "code",
      "metadata": {
        "id": "1BDfi8yCNict",
        "outputId": "d3773863-f5f3-4322-92aa-057357e9a091",
        "colab": {
          "base_uri": "https://localhost:8080/"
        }
      },
      "source": [
        "figRSS = plt.figure()\n",
        "plt.plot(errors['Error'])\n",
        "figRSS.suptitle('Residual sum of squares over iterations', fontsize=20)\n",
        "plt.xlabel('Iterations', fontsize=18)\n",
        "plt.ylabel('Error', fontsize=18)"
      ],
      "execution_count": null,
      "outputs": [
        {
          "output_type": "execute_result",
          "data": {
            "text/plain": [
              "Text(0, 0.5, 'Error')"
            ]
          },
          "metadata": {
            "tags": []
          },
          "execution_count": 15
        },
        {
          "output_type": "display_data",
          "data": {
            "image/png": "[encoded data removed]",
            "text/plain": [
              "<Figure size 432x288 with 1 Axes>"
            ]
          },
          "metadata": {
            "tags": []
          }
        }
      ]
    },
    {
      "cell_type": "markdown",
      "metadata": {
        "id": "RHEBXjluHzc1"
      },
      "source": [
        "###3) O que acontece com o RSS ao longo das iterações (aumenta ou diminui) se você usar 1000 iterações e um learning_rate (tamanho do passo do gradiente) de 0.001? Por que você acha que isso acontece?\n",
        "\n"
      ]
    },
    {
      "cell_type": "markdown",
      "metadata": {
        "id": "Q9uEGm86QKUK"
      },
      "source": [
        "Para os parâmetros learningRate = 0.001 e iterations = 1000, é possível notar o rápido decaimento do RSS. Isto se deu pela adequação dos valores destes parâmetros aos dados e sua distribuição. Nota-se também que a taxa de aprendizado influencia diretamente no decaimento do erro."
      ]
    },
    {
      "cell_type": "markdown",
      "metadata": {
        "id": "VkaRLMHMIKqK"
      },
      "source": [
        "###4) Teste valores diferentes do número de iterações e learning_rate até que w0 e w1 sejam aproximadamente iguais a -39 e 5 respectivamente. Reporte os valores do número de iterações e learning_rate usados para atingir esses valores.\n",
        "\n"
      ]
    },
    {
      "cell_type": "code",
      "metadata": {
        "id": "Cfu-qE-abfex"
      },
      "source": [
        "def runParams(learningRate, numIterations):\n",
        "  points = genfromtxt(datasetCSV, delimiter=',')\n",
        "  #Hyperparameters\n",
        "  \n",
        "  \n",
        "  #how fast the model learns\n",
        "  # learningRate = 0.0001\n",
        "  \n",
        "  # y = mx + b (slope formula)\n",
        "  initialB = 0\n",
        "  initialM = 0\n",
        "  \n",
        "  #How many training step iterations\n",
        "  # numIterations = 1000\n",
        "  \n",
        "  [b, m] = gradientDescentRunner(points, initialB, initialM, learningRate, numIterations)\n",
        "  \n",
        "  print('w0: ' + str(b))\n",
        "  print('w1: ' + str(m))\n",
        "  print('error: ' + str(computeErrorForGivenPoints(b, m, points)))"
      ],
      "execution_count": null,
      "outputs": []
    },
    {
      "cell_type": "code",
      "metadata": {
        "id": "1YHz1X_xbfah",
        "outputId": "ffbc7c7c-fb29-451c-a4d1-20e97859b4bb",
        "colab": {
          "base_uri": "https://localhost:8080/",
          "height": 136
        }
      },
      "source": [
        "iterations = 100000\n",
        "learningRate = 0.001\n",
        "\n",
        "runParams(learningRate, iterations)\n",
        "print('\\nTarget:\\nw0: -39.0\\nw1: 5.0')"
      ],
      "execution_count": null,
      "outputs": [
        {
          "output_type": "stream",
          "text": [
            "w0: -39.44332204413956\n",
            "w1: 5.599308181295304\n",
            "error: 29.82881660998503\n",
            "\n",
            "Target:\n",
            "w0: -39.0\n",
            "w1: 5.0\n"
          ],
          "name": "stdout"
        }
      ]
    },
    {
      "cell_type": "markdown",
      "metadata": {
        "id": "5B6jdtsqbhEv"
      },
      "source": [
        "####Pode-se observar que, experimentando apenas com o número de iterações, é possível atingir os valores esperados para w0 e w1. Neste caso, aumentando o número de iterações para 100000, e consequentemente a precisão do modelo, foi possível atingir estes valores."
      ]
    },
    {
      "cell_type": "markdown",
      "metadata": {
        "id": "zIrto8B4IMQZ"
      },
      "source": [
        "###5) O algoritmo do vídeo usa o número de iterações como critério de parada. Mude o algoritmo para considerar um critério de tolerância que é comparado ao tamanho do gradiente (como no algoritmo dos slides apresentados em sala). \n",
        "\n"
      ]
    },
    {
      "cell_type": "code",
      "metadata": {
        "id": "yJnljwTEeJg7"
      },
      "source": [
        "def gradientDescentRunnerTol(points, startingB, startingM, learningRate, tolerance):\n",
        "  # y = Mx + B\n",
        "  b = startingB\n",
        "  m = startingM\n",
        "  \n",
        "  iterations = 0\n",
        "  while computeErrorForGivenPoints(b, m, points) >= tolerance:\n",
        "    b, m = stepGradient(b, m, array(points), learningRate)\n",
        "    iterations += 1\n",
        "\n",
        "  print('iterations: ' + str(iterations))\n",
        "  \n",
        "  return [b, m]"
      ],
      "execution_count": null,
      "outputs": []
    },
    {
      "cell_type": "code",
      "metadata": {
        "id": "VpD9VEqsesH-"
      },
      "source": [
        "def runParamsTol(learningRate, tolerance):\n",
        "  points = genfromtxt(datasetCSV, delimiter=',')\n",
        "  #Hyperparameters : learningRate, tolerance\n",
        "  \n",
        "  \n",
        "  # y = mx + b (slope formula)\n",
        "  initialB = 0\n",
        "  initialM = 0\n",
        "  \n",
        "  \n",
        "  [b, m] = gradientDescentRunnerTol(points, initialB, initialM, learningRate, tolerance)\n",
        "  \n",
        "  print('w0: ' + str(b))\n",
        "  print('w1: ' + str(m))"
      ],
      "execution_count": null,
      "outputs": []
    },
    {
      "cell_type": "code",
      "metadata": {
        "id": "pYd4T0K_ezo6",
        "outputId": "a00b3375-d21b-4c00-8c53-0fa33e2f744b",
        "colab": {
          "base_uri": "https://localhost:8080/",
          "height": 68
        }
      },
      "source": [
        "learningRate = 0.001\n",
        "tolerance = 30\n",
        "runParamsTol(learningRate, tolerance)"
      ],
      "execution_count": null,
      "outputs": [
        {
          "output_type": "stream",
          "text": [
            "iterations: 31975\n",
            "w0: -37.55228160346146\n",
            "w1: 5.4867384065436156\n"
          ],
          "name": "stdout"
        }
      ]
    },
    {
      "cell_type": "markdown",
      "metadata": {
        "id": "RpXktQOcINfN"
      },
      "source": [
        "###6) Ache um valor de tolerância que se aproxime dos valores dos parâmetros do item 4 acima. Que valor foi esse?\n",
        "\n"
      ]
    },
    {
      "cell_type": "code",
      "metadata": {
        "id": "u3lj3Kp2hljm",
        "outputId": "39cd5324-9f2f-4d3e-aaee-f3a20a3c8f16",
        "colab": {
          "base_uri": "https://localhost:8080/",
          "height": 68
        }
      },
      "source": [
        "learningRate = 0.001\n",
        "tolerance = 29.83\n",
        "runParamsTol(learningRate, tolerance)"
      ],
      "execution_count": null,
      "outputs": [
        {
          "output_type": "stream",
          "text": [
            "iterations: 58124\n",
            "w0: -39.28875995068296\n",
            "w1: 5.590107415583852\n"
          ],
          "name": "stdout"
        }
      ]
    },
    {
      "cell_type": "markdown",
      "metadata": {
        "id": "48brPv4liuct"
      },
      "source": [
        "####Realizando diversos testes com o valor da tolerância, pude observar resultados similares aos obtidos no item 4 ao utilizar valores de tolerância próximos ao obtido para o erro calculado."
      ]
    },
    {
      "cell_type": "markdown",
      "metadata": {
        "id": "efsoA9N2IOpr"
      },
      "source": [
        "###7) Implemente a forma fechada (equações normais) de calcular os coeficientes de regressão (vide algoritmo nos slides). Compare o tempo de processamento com o gradiente descendente considerando sua solução do item 6."
      ]
    },
    {
      "cell_type": "code",
      "metadata": {
        "id": "f9XPi5UXkaJy"
      },
      "source": [
        "def stepGradientNormal(bCurrent, mCurrent, points, learningRate):\n",
        "  #Gradient descent normal, closed form\n",
        "  \n",
        "  bGradient = 0\n",
        "  mGradient = 0\n",
        "\n",
        "  mGradDivisor = 0\n",
        "  mGradDivider = 0\n",
        "\n",
        "  allFirst = lambda x: [a for (a,b) in x]\n",
        "  allSecond = lambda x: [b for (a,b) in x]\n",
        "\n",
        "  xMean = sum(allFirst(points)) / len(points)\n",
        "  yMean = sum(allSecond(points)) / len(points)\n",
        "  \n",
        "  N = float(len(points))\n",
        "  \n",
        "  for i in range(0, len(points)):\n",
        "    x = points[i, 0]\n",
        "    y = points[i, 1]\n",
        "    \n",
        "    mGradDivider += (x - xMean) * (y - yMean)\n",
        "    mGradDivisor += (x - xMean) ** 2\n",
        "\n",
        "  mGradient = 0 if mGradDivisor == 0 else mGradDivider / mGradDivisor\n",
        "\n",
        "  bGradient = yMean - (mGradient * xMean) \n",
        "    \n",
        "  newB = bCurrent - (learningRate * bGradient)\n",
        "  newM = mCurrent - (learningRate * mGradient)\n",
        "  \n",
        "  return [newB, newM]"
      ],
      "execution_count": null,
      "outputs": []
    },
    {
      "cell_type": "code",
      "metadata": {
        "id": "JjK38i6vkuCK"
      },
      "source": [
        "def gradientDescentRunnerNormal(points, startingB, startingM, learningRate, numIterations):\n",
        "  # y = Mx + B\n",
        "  b = startingB\n",
        "  m = startingM\n",
        "  \n",
        "  for i in range(numIterations): \n",
        "    b, m = stepGradientNormal(b, m, array(points), learningRate)\n",
        "    \n",
        "  return [b, m]"
      ],
      "execution_count": null,
      "outputs": []
    },
    {
      "cell_type": "code",
      "metadata": {
        "id": "8-1fGrqlXBJi"
      },
      "source": [
        "def runStepNormal():\n",
        "  points = genfromtxt(datasetCSV, delimiter=',')\n",
        "  #Hyperparameters\n",
        "  \n",
        "  \n",
        "  #how fast the model learns\n",
        "  learningRate = 0.0001\n",
        "  \n",
        "  # y = mx + b (slope formula)\n",
        "  initialB = 0\n",
        "  initialM = 0\n",
        "  \n",
        "  #How many training step iterations\n",
        "  numIterations = 10000\n",
        "  \n",
        "  [b, m] = gradientDescentRunnerNormal(points, initialB, initialM, learningRate, numIterations)\n",
        "  \n",
        "  print('w0: ' + str(b))\n",
        "  print('w1: ' + str(m))"
      ],
      "execution_count": null,
      "outputs": []
    },
    {
      "cell_type": "code",
      "metadata": {
        "id": "CKlYFfz2XIZ0",
        "outputId": "f8d7ee59-0a01-4724-d2b8-a0e0258665c3",
        "colab": {
          "base_uri": "https://localhost:8080/",
          "height": 238
        }
      },
      "source": [
        "import time\n",
        "\n",
        "print('Running Normalized Coeficients Approach\\n')\n",
        "currentTime = time.time()\n",
        "\n",
        "runStepNormal()\n",
        "runStepNormalTime = time.time() - currentTime\n",
        "\n",
        "learningRate = 0.001\n",
        "tolerance = 29.83\n",
        "\n",
        "print('\\nRunning Tolerance Approach\\n')\n",
        "currentTime = time.time()\n",
        "runParamsTol(learningRate, tolerance)\n",
        "\n",
        "runParamsTolTime = time.time() - currentTime\n",
        "\n",
        "print('\\nNormalized Coeficients Approach time: ' + str(round(runStepNormalTime, 2))+ ' second(s)')\n",
        "print('Tolerance Approach time: ' + str(round(runParamsTolTime, 2))+ ' second(s)')"
      ],
      "execution_count": null,
      "outputs": [
        {
          "output_type": "stream",
          "text": [
            "Running Normalized Coeficients Approach\n",
            "\n",
            "w0: 39.44625667909923\n",
            "w1: -5.599482874120658\n",
            "\n",
            "Running Tolerance Approach\n",
            "\n",
            "iterations: 58124\n",
            "w0: -39.28875995068296\n",
            "w1: 5.590107415583852\n",
            "\n",
            "Normalized Coeficients Approach time: 1.53 second(s)\n",
            "Tolerance Approach time: 7.15 second(s)\n"
          ],
          "name": "stdout"
        }
      ]
    },
    {
      "cell_type": "markdown",
      "metadata": {
        "id": "7rJVpLXUac0i"
      },
      "source": [
        "####Utilizando as equações normais para estimativa dos coeficientes, pudemos obter um tempo de execução consideravelmente menor quando comparado com a abordagem que utiliza um valor de Tolerância para parada do algoritmo."
      ]
    }
  ]
}
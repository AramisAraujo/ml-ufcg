{
  "nbformat": 4,
  "nbformat_minor": 0,
  "metadata": {
    "colab": {
      "provenance": [],
      "collapsed_sections": []
    },
    "kernelspec": {
      "name": "python3",
      "display_name": "Python 3"
    },
    "language_info": {
      "name": "python"
    }
  },
  "cells": [
    {
      "cell_type": "markdown",
      "source": [
        "#Setup e imports"
      ],
      "metadata": {
        "id": "1V5V8HH-cILK"
      }
    },
    {
      "cell_type": "code",
      "source": [
        "import matplotlib.pyplot as plt\n",
        "import numpy as np\n",
        "import pandas as pd\n",
        "import seaborn as sns\n",
        "import timeit\n",
        "\n",
        "sns.set_theme()"
      ],
      "metadata": {
        "id": "JRgGo0V4Tt1Y"
      },
      "execution_count": null,
      "outputs": []
    },
    {
      "cell_type": "markdown",
      "source": [
        "#Código base (Siraj Raval)"
      ],
      "metadata": {
        "id": "pFaJlMUPcLx8"
      }
    },
    {
      "cell_type": "code",
      "execution_count": null,
      "metadata": {
        "id": "UJXIuEDwzVr7"
      },
      "outputs": [],
      "source": [
        "#The optimal values of m and b can be actually calculated with way less effort than doing a linear regression. \n",
        "#this is just to demonstrate gradient descent\n",
        "\n",
        "# y = mx + b\n",
        "# m is slope, b is y-intercept\n",
        "def compute_error_for_line_given_points(b, m, points):\n",
        "    totalError = 0\n",
        "    for i in range(0, len(points)):\n",
        "        x = points[i, 0]\n",
        "        y = points[i, 1]\n",
        "        totalError += (y - (m * x + b)) ** 2\n",
        "    return totalError / float(len(points))\n",
        "\n",
        "def step_gradient(b_current, m_current, points, learningRate):\n",
        "    b_gradient = 0\n",
        "    m_gradient = 0\n",
        "    N = float(len(points))\n",
        "    for i in range(0, len(points)):\n",
        "        x = float(points[i, 0])\n",
        "        y = float(points[i, 1])\n",
        "        b_gradient += -(2/N) * (y - ((m_current * x) + b_current))\n",
        "        m_gradient += -(2/N) * x * (y - ((m_current * x) + b_current))\n",
        "    new_b = b_current - (learningRate * b_gradient)\n",
        "    new_m = m_current - (learningRate * m_gradient)\n",
        "    return new_b, new_m\n",
        "\n",
        "def gradient_descent_runner(points, starting_b, starting_m, learning_rate, num_iterations):\n",
        "    b = starting_b\n",
        "    m = starting_m\n",
        "    for i in range(num_iterations):\n",
        "        b, m = step_gradient(b, m, np.array(points), learning_rate)\n",
        "    return b, m\n",
        "\n",
        "def run(filepath, learning_rate=0.0001, num_iterations=1000):\n",
        "    points = np.genfromtxt(filepath, delimiter=\",\")\n",
        "    initial_b = 0 # initial y-intercept guess\n",
        "    initial_m = 0 # initial slope guess\n",
        "    print (\"Starting gradient descent at w0 = {0}, w1 = {1}, error = {2}\".format(initial_b, initial_m, compute_error_for_line_given_points(initial_b, initial_m, points)))\n",
        "    print (\"Running...\")\n",
        "    b, m = gradient_descent_runner(points, initial_b, initial_m, learning_rate, num_iterations)\n",
        "    print (\"After {0} iterations w0 = {1}, w1 = {2}, error = {3}\".format(num_iterations, b, m, compute_error_for_line_given_points(b, m, points)))\n",
        "    "
      ]
    },
    {
      "cell_type": "code",
      "source": [
        "model_data_path = \"/content/drive/MyDrive/ML/regressaoLinearSimples/linear_regression_data.csv\"\n",
        "run(filepath=model_data_path)"
      ],
      "metadata": {
        "colab": {
          "base_uri": "https://localhost:8080/"
        },
        "id": "d2Qf3RZz16GR",
        "outputId": "11051b8a-8e82-4941-f584-1f747055a342"
      },
      "execution_count": null,
      "outputs": [
        {
          "output_type": "stream",
          "name": "stdout",
          "text": [
            "Starting gradient descent at w0 = 0, w1 = 0, error = 5565.107834483211\n",
            "Running...\n",
            "After 1000 iterations w0 = 0.08893651993741346, w1 = 1.4777440851894448, error = 112.61481011613473\n"
          ]
        }
      ]
    },
    {
      "cell_type": "code",
      "source": [
        "income_data_path = \"/content/drive/MyDrive/ML/regressaoLinearSimples/income.csv\"\n",
        "run(filepath=income_data_path)"
      ],
      "metadata": {
        "colab": {
          "base_uri": "https://localhost:8080/"
        },
        "id": "L-2lmMkF16MC",
        "outputId": "35e2de28-fddd-484f-d8d5-ca4ce5b5d7fd"
      },
      "execution_count": null,
      "outputs": [
        {
          "output_type": "stream",
          "name": "stdout",
          "text": [
            "Starting gradient descent at w0 = 0, w1 = 0, error = 2946.6344970460195\n",
            "Running...\n",
            "After 1000 iterations w0 = -0.18234255376510086, w1 = 3.262182267596014, error = 103.39842291729676\n"
          ]
        }
      ]
    },
    {
      "cell_type": "markdown",
      "source": [
        "#Questão 1\n"
      ],
      "metadata": {
        "id": "v5J-RgBF5avj"
      }
    },
    {
      "cell_type": "markdown",
      "source": [
        "Modifique o código original para imprimir o RSS a cada iteração do gradiente descendente.\n",
        "\n",
        "Gere um plot mostrando o RSS (eixo y) por iteração (eixo x)."
      ],
      "metadata": {
        "id": "pQa-DIRIy4uu"
      }
    },
    {
      "cell_type": "code",
      "source": [
        "def q1_gradient_descent_runner(points, starting_b, starting_m, learning_rate, num_iterations):\n",
        "    b = starting_b\n",
        "    m = starting_m\n",
        "    error_steps = []\n",
        "    for i in range(num_iterations):\n",
        "        b, m = step_gradient(b, m, np.array(points), learning_rate)\n",
        "        error_steps.append(compute_error_for_line_given_points(b, m, points))\n",
        "    return b, m, error_steps\n",
        "\n",
        "def plot_error(error_steps):\n",
        "  data = pd.DataFrame()\n",
        "  data['Error'] = error_steps\n",
        "  data['Step'] = [x for x in range(len(error_steps))]\n",
        "  \n",
        "  sns.lineplot(data=data, x='Step', y='Error')    \n",
        "\n",
        "def q1_run(filepath, learning_rate=0.0001, num_iterations=1000):\n",
        "    points = np.genfromtxt(filepath, delimiter=\",\")\n",
        "    initial_b = 0 # initial y-intercept guess\n",
        "    initial_m = 0 # initial slope guess\n",
        "    print (\"Starting gradient descent at w0 = {0}, w1 = {1}, error = {2}\".format(initial_b, initial_m, compute_error_for_line_given_points(initial_b, initial_m, points)))\n",
        "    print (\"Running...\")\n",
        "    b, m, error_steps = q1_gradient_descent_runner(points, initial_b, initial_m, learning_rate, num_iterations)\n",
        "    print (\"After {0} iterations w0 = {1}, w1 = {2}, error = {3}\".format(num_iterations, b, m, compute_error_for_line_given_points(b, m, points)))\n",
        "    plot_error(error_steps)\n",
        "\n",
        "q1_run(income_data_path)\n"
      ],
      "metadata": {
        "id": "tuP1iM-V4Vsi",
        "colab": {
          "base_uri": "https://localhost:8080/",
          "height": 337
        },
        "outputId": "9fd1cf4e-1cc8-4edf-9091-93b67f311759"
      },
      "execution_count": null,
      "outputs": [
        {
          "output_type": "stream",
          "name": "stdout",
          "text": [
            "Starting gradient descent at w0 = 0, w1 = 0, error = 2946.6344970460195\n",
            "Running...\n",
            "After 1000 iterations w0 = -0.18234255376510086, w1 = 3.262182267596014, error = 103.39842291729676\n"
          ]
        },
        {
          "output_type": "display_data",
          "data": {
            "text/plain": [
              "<Figure size 432x288 with 1 Axes>"
            ],
            "image/png": "[encoded data removed]"
          },
          "metadata": {}
        }
      ]
    },
    {
      "cell_type": "markdown",
      "source": [
        "#Questão 2"
      ],
      "metadata": {
        "id": "U-J4lRJrcCfM"
      }
    },
    {
      "cell_type": "markdown",
      "source": [
        "Teste valores pequenos, médios e grandes de alpha (learning rate).\n",
        "\n",
        "O que acontece com o RSS durante as iterações em cada caso? Por que?"
      ],
      "metadata": {
        "id": "mCvarE9oy_Xv"
      }
    },
    {
      "cell_type": "code",
      "source": [
        "def q2_run(filepath, learning_rate=0.0001, num_iterations=1000):\n",
        "    points = np.genfromtxt(filepath, delimiter=\",\")\n",
        "    initial_b = 0 # initial y-intercept guess\n",
        "    initial_m = 0 # initial slope guess\n",
        "    print (\"Starting gradient descent at w0 = {0}, w1 = {1}, error = {2}\".format(initial_b, initial_m, compute_error_for_line_given_points(initial_b, initial_m, points)))\n",
        "    print (\"Running...\")\n",
        "    b, m, error_steps = q1_gradient_descent_runner(points, initial_b, initial_m, learning_rate, num_iterations)\n",
        "    print (\"After {0} iterations w0 = {1}, w1 = {2}, error = {3}\".format(num_iterations, b, m, compute_error_for_line_given_points(b, m, points)))\n",
        "    return error_steps\n",
        "\n",
        "\n",
        "learning_rates = [1e-7, 1e-6, 1e-5, 1e-4, 5e-4, 1e-3, 0.35e-2]\n",
        "df = pd.DataFrame()\n",
        "\n",
        "for lr in learning_rates:\n",
        "  error_steps = q2_run(income_data_path, learning_rate=lr,num_iterations=1000)\n",
        "  steps = [x for x in range(len(error_steps))]\n",
        "\n",
        "  temp_df = pd.DataFrame({\n",
        "      'Error': error_steps,\n",
        "      'Step': steps,\n",
        "      'Learning Rate': lr})\n",
        "\n",
        "  df = pd.concat([df, temp_df])\n",
        "  print('-' * 120)\n",
        "\n",
        "for lr in learning_rates:\n",
        "  plt.figure()\n",
        "  sns.lineplot(data=df.loc[df['Learning Rate'] == lr],\n",
        "               x='Step', y='Error', hue='Learning Rate')\n",
        "\n",
        "\n",
        "  "
      ],
      "metadata": {
        "id": "hgy9lMKJWJTj",
        "colab": {
          "base_uri": "https://localhost:8080/",
          "height": 1000
        },
        "outputId": "97cf6754-af99-4a9d-92a0-c248dbf97942"
      },
      "execution_count": null,
      "outputs": [
        {
          "output_type": "stream",
          "name": "stdout",
          "text": [
            "Starting gradient descent at w0 = 0, w1 = 0, error = 2946.6344970460195\n",
            "Running...\n",
            "After 1000 iterations w0 = 0.009753606805033586, w1 = 0.1702045664053923, error = 2655.9245544507507\n",
            "------------------------------------------------------------------------------------------------------------------------\n",
            "Starting gradient descent at w0 = 0, w1 = 0, error = 2946.6344970460195\n",
            "Running...\n",
            "After 1000 iterations w0 = 0.07666927191769354, w1 = 1.3515051987364082, error = 1070.4308756792848\n",
            "------------------------------------------------------------------------------------------------------------------------\n",
            "Starting gradient descent at w0 = 0, w1 = 0, error = 2946.6344970460195\n",
            "Running...\n",
            "After 1000 iterations w0 = 0.15431825293573612, w1 = 3.2276061763518364, error = 104.7255043116133\n",
            "------------------------------------------------------------------------------------------------------------------------\n",
            "Starting gradient descent at w0 = 0, w1 = 0, error = 2946.6344970460195\n",
            "Running...\n",
            "After 1000 iterations w0 = -0.18234255376510086, w1 = 3.262182267596014, error = 103.39842291729676\n",
            "------------------------------------------------------------------------------------------------------------------------\n",
            "Starting gradient descent at w0 = 0, w1 = 0, error = 2946.6344970460195\n",
            "Running...\n",
            "After 1000 iterations w0 = -1.6480125321173258, w1 = 3.3494306075967475, error = 98.00842481444937\n",
            "------------------------------------------------------------------------------------------------------------------------\n",
            "Starting gradient descent at w0 = 0, w1 = 0, error = 2946.6344970460195\n",
            "Running...\n",
            "After 1000 iterations w0 = -3.403476317589064, w1 = 3.4539297809959373, error = 91.82255408075055\n",
            "------------------------------------------------------------------------------------------------------------------------\n",
            "Starting gradient descent at w0 = 0, w1 = 0, error = 2946.6344970460195\n",
            "Running...\n",
            "After 1000 iterations w0 = -11.031964162581215, w1 = 3.908038080286897, error = 68.3575685860879\n",
            "------------------------------------------------------------------------------------------------------------------------\n"
          ]
        },
        {
          "output_type": "display_data",
          "data": {
            "text/plain": [
              "<Figure size 432x288 with 1 Axes>"
            ],
            "image/png": "[encoded data removed]"
          },
          "metadata": {}
        },
        {
          "output_type": "display_data",
          "data": {
            "text/plain": [
              "<Figure size 432x288 with 1 Axes>"
            ],
            "image/png": "[encoded data removed]"
          },
          "metadata": {}
        },
        {
          "output_type": "display_data",
          "data": {
            "text/plain": [
              "<Figure size 432x288 with 1 Axes>"
            ],
            "image/png": "[encoded data removed]"
          },
          "metadata": {}
        },
        {
          "output_type": "display_data",
          "data": {
            "text/plain": [
              "<Figure size 432x288 with 1 Axes>"
            ],
            "image/png": "[encoded data removed]"
          },
          "metadata": {}
        },
        {
          "output_type": "display_data",
          "data": {
            "text/plain": [
              "<Figure size 432x288 with 1 Axes>"
            ],
            "image/png": "[encoded data removed]"
          },
          "metadata": {}
        },
        {
          "output_type": "display_data",
          "data": {
            "text/plain": [
              "<Figure size 432x288 with 1 Axes>"
            ],
            "image/png": "[encoded data removed]"
          },
          "metadata": {}
        },
        {
          "output_type": "display_data",
          "data": {
            "text/plain": [
              "<Figure size 432x288 with 1 Axes>"
            ],
            "image/png": "[encoded data removed]"
          },
          "metadata": {}
        }
      ]
    },
    {
      "cell_type": "markdown",
      "source": [
        "A variação do parâmetro *learning rate* (alpha) tem impacto direto no decaimento do RSS a cada iteração.\n",
        "\n",
        "Valores maiores de ***alpha*** provocam decaimento mais acentuado do RSS, visto que permite variação mais brusca dos parâmetros **w0** e **w1** da curva a cada iteração."
      ],
      "metadata": {
        "id": "VgOu3lGtzF3g"
      }
    },
    {
      "cell_type": "markdown",
      "source": [
        "#Questão 3\n"
      ],
      "metadata": {
        "id": "42JbcNtLb-nM"
      }
    },
    {
      "cell_type": "markdown",
      "source": [
        "Teste valores diferentes do número de iterações e alpha até que w0 e w1 sejam aproximadamente iguais a -39 e 5 respectivamente.\n",
        "\n",
        "Reporte os valores do número de iterações e learning_rate usados para atingir esses valores."
      ],
      "metadata": {
        "id": "U02aI34pzLFn"
      }
    },
    {
      "cell_type": "code",
      "source": [
        "def q3_run(filepath, learning_rate=0.0001, num_iterations=1000):\n",
        "    points = np.genfromtxt(filepath, delimiter=\",\")\n",
        "    initial_b = 0 # initial y-intercept guess\n",
        "    initial_m = 0 # initial slope guess\n",
        "\n",
        "    w0, w1, error_steps = q1_gradient_descent_runner(points, initial_b, initial_m, learning_rate, num_iterations)\n",
        "    error_last_iter = compute_error_for_line_given_points(w0, w1, points)\n",
        "\n",
        "    return w0, w1, error_last_iter\n",
        "\n",
        "\n",
        "learning_rates = [1e-7, 1e-6, 1e-5, 1e-4, 5e-4, 1e-3]\n",
        "iterations = [1000, 10000, 100000]\n",
        "df = pd.DataFrame(columns=['Learning Rate', 'Iterations', 'w0', 'w1', 'Error'])\n",
        "\n",
        "for lr in learning_rates:\n",
        "  for n_iterations in iterations:\n",
        "    w0, w1, error = q3_run(income_data_path, learning_rate=lr, num_iterations=n_iterations)\n",
        "    df.loc[len(df)] = [lr, n_iterations, w0, w1, error]\n",
        "\n",
        "df\n"
      ],
      "metadata": {
        "colab": {
          "base_uri": "https://localhost:8080/",
          "height": 495
        },
        "id": "tBKJrgWbb-Da",
        "outputId": "c6fbaaca-2a54-4f67-f195-465241a80626"
      },
      "execution_count": null,
      "outputs": [
        {
          "output_type": "execute_result",
          "data": {
            "text/plain": [
              "    Learning Rate  Iterations         w0        w1        Error\n",
              "0    1.000000e-07      1000.0   0.009754  0.170205  2655.924554\n",
              "1    1.000000e-07     10000.0   0.076655  1.351258  1070.684020\n",
              "2    1.000000e-07    100000.0   0.154306  3.227395   104.727171\n",
              "3    1.000000e-06      1000.0   0.076669  1.351505  1070.430876\n",
              "4    1.000000e-06     10000.0   0.154307  3.227414   104.727018\n",
              "5    1.000000e-06    100000.0  -0.182341  3.262182   103.398430\n",
              "6    1.000000e-05      1000.0   0.154318  3.227606   104.725504\n",
              "7    1.000000e-05     10000.0  -0.182341  3.262182   103.398429\n",
              "8    1.000000e-05    100000.0  -3.403315  3.453920    91.823109\n",
              "9    1.000000e-04      1000.0  -0.182343  3.262182   103.398423\n",
              "10   1.000000e-04     10000.0  -3.403330  3.453921    91.823059\n",
              "11   1.000000e-04    100000.0 -24.132397  4.687880    41.020118\n",
              "12   5.000000e-04      1000.0  -1.648013  3.349431    98.008425\n",
              "13   5.000000e-04     10000.0 -14.808543  4.132850    58.796385\n",
              "14   5.000000e-04    100000.0 -39.105152  5.579178    29.834369\n",
              "15   1.000000e-03      1000.0  -3.403476  3.453930    91.822554\n",
              "16   1.000000e-03     10000.0 -24.133020  4.687917    41.019207\n",
              "17   1.000000e-03    100000.0 -39.443322  5.599308    29.828817"
            ],
            "text/html": [
              "\n",
              "  <div id=\"df-b43a5fe8-2635-4657-b315-69592bf22b6e\">\n",
              "    <div class=\"colab-df-container\">\n",
              "      <div>\n",
              "<style scoped>\n",
              "    .dataframe tbody tr th:only-of-type {\n",
              "        vertical-align: middle;\n",
              "    }\n",
              "\n",
              "    .dataframe tbody tr th {\n",
              "        vertical-align: top;\n",
              "    }\n",
              "\n",
              "    .dataframe thead th {\n",
              "        text-align: right;\n",
              "    }\n",
              "</style>\n",
              "<table border=\"1\" class=\"dataframe\">\n",
              "  <thead>\n",
              "    <tr style=\"text-align: right;\">\n",
              "      <th></th>\n",
              "      <th>Learning Rate</th>\n",
              "      <th>Iterations</th>\n",
              "      <th>w0</th>\n",
              "      <th>w1</th>\n",
              "      <th>Error</th>\n",
              "    </tr>\n",
              "  </thead>\n",
              "  <tbody>\n",
              "    <tr>\n",
              "      <th>0</th>\n",
              "      <td>1.000000e-07</td>\n",
              "      <td>1000.0</td>\n",
              "      <td>0.009754</td>\n",
              "      <td>0.170205</td>\n",
              "      <td>2655.924554</td>\n",
              "    </tr>\n",
              "    <tr>\n",
              "      <th>1</th>\n",
              "      <td>1.000000e-07</td>\n",
              "      <td>10000.0</td>\n",
              "      <td>0.076655</td>\n",
              "      <td>1.351258</td>\n",
              "      <td>1070.684020</td>\n",
              "    </tr>\n",
              "    <tr>\n",
              "      <th>2</th>\n",
              "      <td>1.000000e-07</td>\n",
              "      <td>100000.0</td>\n",
              "      <td>0.154306</td>\n",
              "      <td>3.227395</td>\n",
              "      <td>104.727171</td>\n",
              "    </tr>\n",
              "    <tr>\n",
              "      <th>3</th>\n",
              "      <td>1.000000e-06</td>\n",
              "      <td>1000.0</td>\n",
              "      <td>0.076669</td>\n",
              "      <td>1.351505</td>\n",
              "      <td>1070.430876</td>\n",
              "    </tr>\n",
              "    <tr>\n",
              "      <th>4</th>\n",
              "      <td>1.000000e-06</td>\n",
              "      <td>10000.0</td>\n",
              "      <td>0.154307</td>\n",
              "      <td>3.227414</td>\n",
              "      <td>104.727018</td>\n",
              "    </tr>\n",
              "    <tr>\n",
              "      <th>5</th>\n",
              "      <td>1.000000e-06</td>\n",
              "      <td>100000.0</td>\n",
              "      <td>-0.182341</td>\n",
              "      <td>3.262182</td>\n",
              "      <td>103.398430</td>\n",
              "    </tr>\n",
              "    <tr>\n",
              "      <th>6</th>\n",
              "      <td>1.000000e-05</td>\n",
              "      <td>1000.0</td>\n",
              "      <td>0.154318</td>\n",
              "      <td>3.227606</td>\n",
              "      <td>104.725504</td>\n",
              "    </tr>\n",
              "    <tr>\n",
              "      <th>7</th>\n",
              "      <td>1.000000e-05</td>\n",
              "      <td>10000.0</td>\n",
              "      <td>-0.182341</td>\n",
              "      <td>3.262182</td>\n",
              "      <td>103.398429</td>\n",
              "    </tr>\n",
              "    <tr>\n",
              "      <th>8</th>\n",
              "      <td>1.000000e-05</td>\n",
              "      <td>100000.0</td>\n",
              "      <td>-3.403315</td>\n",
              "      <td>3.453920</td>\n",
              "      <td>91.823109</td>\n",
              "    </tr>\n",
              "    <tr>\n",
              "      <th>9</th>\n",
              "      <td>1.000000e-04</td>\n",
              "      <td>1000.0</td>\n",
              "      <td>-0.182343</td>\n",
              "      <td>3.262182</td>\n",
              "      <td>103.398423</td>\n",
              "    </tr>\n",
              "    <tr>\n",
              "      <th>10</th>\n",
              "      <td>1.000000e-04</td>\n",
              "      <td>10000.0</td>\n",
              "      <td>-3.403330</td>\n",
              "      <td>3.453921</td>\n",
              "      <td>91.823059</td>\n",
              "    </tr>\n",
              "    <tr>\n",
              "      <th>11</th>\n",
              "      <td>1.000000e-04</td>\n",
              "      <td>100000.0</td>\n",
              "      <td>-24.132397</td>\n",
              "      <td>4.687880</td>\n",
              "      <td>41.020118</td>\n",
              "    </tr>\n",
              "    <tr>\n",
              "      <th>12</th>\n",
              "      <td>5.000000e-04</td>\n",
              "      <td>1000.0</td>\n",
              "      <td>-1.648013</td>\n",
              "      <td>3.349431</td>\n",
              "      <td>98.008425</td>\n",
              "    </tr>\n",
              "    <tr>\n",
              "      <th>13</th>\n",
              "      <td>5.000000e-04</td>\n",
              "      <td>10000.0</td>\n",
              "      <td>-14.808543</td>\n",
              "      <td>4.132850</td>\n",
              "      <td>58.796385</td>\n",
              "    </tr>\n",
              "    <tr>\n",
              "      <th>14</th>\n",
              "      <td>5.000000e-04</td>\n",
              "      <td>100000.0</td>\n",
              "      <td>-39.105152</td>\n",
              "      <td>5.579178</td>\n",
              "      <td>29.834369</td>\n",
              "    </tr>\n",
              "    <tr>\n",
              "      <th>15</th>\n",
              "      <td>1.000000e-03</td>\n",
              "      <td>1000.0</td>\n",
              "      <td>-3.403476</td>\n",
              "      <td>3.453930</td>\n",
              "      <td>91.822554</td>\n",
              "    </tr>\n",
              "    <tr>\n",
              "      <th>16</th>\n",
              "      <td>1.000000e-03</td>\n",
              "      <td>10000.0</td>\n",
              "      <td>-24.133020</td>\n",
              "      <td>4.687917</td>\n",
              "      <td>41.019207</td>\n",
              "    </tr>\n",
              "    <tr>\n",
              "      <th>17</th>\n",
              "      <td>1.000000e-03</td>\n",
              "      <td>100000.0</td>\n",
              "      <td>-39.443322</td>\n",
              "      <td>5.599308</td>\n",
              "      <td>29.828817</td>\n",
              "    </tr>\n",
              "  </tbody>\n",
              "</table>\n",
              "</div>\n",
              "      <button class=\"colab-df-convert\" onclick=\"convertToInteractive('df-b43a5fe8-2635-4657-b315-69592bf22b6e')\"\n",
              "              title=\"Convert this dataframe to an interactive table.\"\n",
              "              style=\"display:none;\">\n",
              "        \n",
              "  <svg xmlns=\"http://www.w3.org/2000/svg\" height=\"24px\"viewBox=\"0 0 24 24\"\n",
              "       width=\"24px\">\n",
              "    <path d=\"M0 0h24v24H0V0z\" fill=\"none\"/>\n",
              "    <path d=\"M18.56 5.44l.94 2.06.94-2.06 2.06-.94-2.06-.94-.94-2.06-.94 2.06-2.06.94zm-11 1L8.5 8.5l.94-2.06 2.06-.94-2.06-.94L8.5 2.5l-.94 2.06-2.06.94zm10 10l.94 2.06.94-2.06 2.06-.94-2.06-.94-.94-2.06-.94 2.06-2.06.94z\"/><path d=\"M17.41 7.96l-1.37-1.37c-.4-.4-.92-.59-1.43-.59-.52 0-1.04.2-1.43.59L10.3 9.45l-7.72 7.72c-.78.78-.78 2.05 0 2.83L4 21.41c.39.39.9.59 1.41.59.51 0 1.02-.2 1.41-.59l7.78-7.78 2.81-2.81c.8-.78.8-2.07 0-2.86zM5.41 20L4 18.59l7.72-7.72 1.47 1.35L5.41 20z\"/>\n",
              "  </svg>\n",
              "      </button>\n",
              "      \n",
              "  <style>\n",
              "    .colab-df-container {\n",
              "      display:flex;\n",
              "      flex-wrap:wrap;\n",
              "      gap: 12px;\n",
              "    }\n",
              "\n",
              "    .colab-df-convert {\n",
              "      background-color: #E8F0FE;\n",
              "      border: none;\n",
              "      border-radius: 50%;\n",
              "      cursor: pointer;\n",
              "      display: none;\n",
              "      fill: #1967D2;\n",
              "      height: 32px;\n",
              "      padding: 0 0 0 0;\n",
              "      width: 32px;\n",
              "    }\n",
              "\n",
              "    .colab-df-convert:hover {\n",
              "      background-color: #E2EBFA;\n",
              "      box-shadow: 0px 1px 2px rgba(60, 64, 67, 0.3), 0px 1px 3px 1px rgba(60, 64, 67, 0.15);\n",
              "      fill: #174EA6;\n",
              "    }\n",
              "\n",
              "    [theme=dark] .colab-df-convert {\n",
              "      background-color: #3B4455;\n",
              "      fill: #D2E3FC;\n",
              "    }\n",
              "\n",
              "    [theme=dark] .colab-df-convert:hover {\n",
              "      background-color: #434B5C;\n",
              "      box-shadow: 0px 1px 3px 1px rgba(0, 0, 0, 0.15);\n",
              "      filter: drop-shadow(0px 1px 2px rgba(0, 0, 0, 0.3));\n",
              "      fill: #FFFFFF;\n",
              "    }\n",
              "  </style>\n",
              "\n",
              "      <script>\n",
              "        const buttonEl =\n",
              "          document.querySelector('#df-b43a5fe8-2635-4657-b315-69592bf22b6e button.colab-df-convert');\n",
              "        buttonEl.style.display =\n",
              "          google.colab.kernel.accessAllowed ? 'block' : 'none';\n",
              "\n",
              "        async function convertToInteractive(key) {\n",
              "          const element = document.querySelector('#df-b43a5fe8-2635-4657-b315-69592bf22b6e');\n",
              "          const dataTable =\n",
              "            await google.colab.kernel.invokeFunction('convertToInteractive',\n",
              "                                                     [key], {});\n",
              "          if (!dataTable) return;\n",
              "\n",
              "          const docLinkHtml = 'Like what you see? Visit the ' +\n",
              "            '<a target=\"_blank\" href=https://colab.research.google.com/notebooks/data_table.ipynb>data table notebook</a>'\n",
              "            + ' to learn more about interactive tables.';\n",
              "          element.innerHTML = '';\n",
              "          dataTable['output_type'] = 'display_data';\n",
              "          await google.colab.output.renderOutput(dataTable, element);\n",
              "          const docLink = document.createElement('div');\n",
              "          docLink.innerHTML = docLinkHtml;\n",
              "          element.appendChild(docLink);\n",
              "        }\n",
              "      </script>\n",
              "    </div>\n",
              "  </div>\n",
              "  "
            ]
          },
          "metadata": {},
          "execution_count": 84
        }
      ]
    },
    {
      "cell_type": "markdown",
      "source": [
        "Os parâmetros que aproximam **w0** e **w1** dos valores propostos são:\n",
        "\n",
        "**Learning rate = 0.005**\n",
        "\n",
        "**Iterações = 100000**"
      ],
      "metadata": {
        "id": "TJk8JQmXzOPM"
      }
    },
    {
      "cell_type": "markdown",
      "source": [
        "#Questão 4"
      ],
      "metadata": {
        "id": "8pz6_6c1lpnK"
      }
    },
    {
      "cell_type": "markdown",
      "source": [
        "O algoritmo do vídeo usa o número de iterações como critério de parada.\n",
        "\n",
        "Mude o algoritmo para considerar um critério de tolerância que é comparado à norma do gradiente (como no algoritmo dos slides apresentados em sala). "
      ],
      "metadata": {
        "id": "rWfP_EipzRuz"
      }
    },
    {
      "cell_type": "code",
      "source": [
        "def q4_step_gradient(b_current, m_current, points, learningRate):\n",
        "    b_gradient = 0\n",
        "    m_gradient = 0\n",
        "    N = float(len(points))\n",
        "    for i in range(0, len(points)):\n",
        "        x = float(points[i, 0])\n",
        "        y = float(points[i, 1])\n",
        "        b_gradient += -(2/N) * (y - ((m_current * x) + b_current))\n",
        "        m_gradient += -(2/N) * x * (y - ((m_current * x) + b_current))\n",
        "\n",
        "    gradient_norma = np.linalg.norm(b_gradient - m_gradient)\n",
        "    new_b = b_current - (learningRate * b_gradient)\n",
        "    new_m = m_current - (learningRate * m_gradient)\n",
        "\n",
        "    return new_b, new_m, gradient_norma\n",
        "\n",
        "def q4_gradient_descent_runner(points, starting_b, starting_m, learning_rate, tolerance):\n",
        "    b = starting_b\n",
        "    m = starting_m\n",
        "    error_steps = []\n",
        "\n",
        "    gradient_norma = tolerance + 1\n",
        "\n",
        "    while gradient_norma > tolerance:\n",
        "        b, m, gradient_norma = q4_step_gradient(b, m, np.array(points), learning_rate)\n",
        "        error_steps.append(compute_error_for_line_given_points(b, m, points))\n",
        "\n",
        "    return b, m, error_steps\n",
        "\n",
        "def q4_run(filepath, learning_rate=0.0001, tolerance=0.001):\n",
        "    points = np.genfromtxt(filepath, delimiter=\",\")\n",
        "    initial_b = 0 # initial y-intercept guess\n",
        "    initial_m = 0 # initial slope guess\n",
        "    w0, w1, error_steps = q4_gradient_descent_runner(points, initial_b, initial_m, learning_rate, tolerance)\n",
        "    error_last_iter = compute_error_for_line_given_points(w0, w1, points)\n",
        "    \n",
        "    return w0, w1, error_last_iter\n",
        "\n",
        "w0, w1, error_last_iter = q4_run(income_data_path)\n",
        "print(f\"w0 = {w0}, w1 = {w1}, error = {error_last_iter}\")\n"
      ],
      "metadata": {
        "id": "jbI06PaqlpMh",
        "colab": {
          "base_uri": "https://localhost:8080/"
        },
        "outputId": "60f1f140-d98e-4b9a-9fa4-30a8b03e7a3c"
      },
      "execution_count": null,
      "outputs": [
        {
          "output_type": "stream",
          "name": "stdout",
          "text": [
            "w0 = -39.436332895817216, w1 = 5.598892131571867, error = 29.82882089865924\n"
          ]
        }
      ]
    },
    {
      "cell_type": "markdown",
      "source": [
        "#Questão 5"
      ],
      "metadata": {
        "id": "eOq1MsAwqYsf"
      }
    },
    {
      "cell_type": "markdown",
      "source": [
        "Ache um valor de tolerância que se aproxime dos valores dos parâmetros do item 4 acima.\n",
        "\n",
        "Que valor foi esse?\n"
      ],
      "metadata": {
        "id": "BhQ62h6CzW8R"
      }
    },
    {
      "cell_type": "code",
      "source": [
        "learning_rates = [1e-4, 5e-4, 1e-3]\n",
        "tolerance_values = [0.1, 0.01, 0.001]\n",
        "df = pd.DataFrame(columns=['Learning Rate', 'Tolerance', 'w0', 'w1', 'Error'])\n",
        "\n",
        "for lr in learning_rates:\n",
        "  for tol in tolerance_values:\n",
        "    w0, w1, error = q4_run(income_data_path, learning_rate=lr, tolerance=tol)\n",
        "    df.loc[len(df)] = [lr, tol, w0, w1, error]\n",
        "\n",
        "df"
      ],
      "metadata": {
        "colab": {
          "base_uri": "https://localhost:8080/",
          "height": 301
        },
        "id": "bi0FTWXpqYVP",
        "outputId": "75c72bb5-0092-4f8e-a3fb-39b89e147e9d"
      },
      "execution_count": null,
      "outputs": [
        {
          "output_type": "execute_result",
          "data": {
            "text/plain": [
              "   Learning Rate  Tolerance         w0        w1      Error\n",
              "0         0.0001      0.100 -38.453882  5.540409  29.875812\n",
              "1         0.0001      0.010 -39.347020  5.593575  29.829286\n",
              "2         0.0001      0.001 -39.436333  5.598892  29.828821\n",
              "3         0.0005      0.100 -38.453924  5.540411  29.875808\n",
              "4         0.0005      0.010 -39.347025  5.593576  29.829286\n",
              "5         0.0005      0.001 -39.436334  5.598892  29.828821\n",
              "6         0.0010      0.100 -38.454011  5.540416  29.875800\n",
              "7         0.0010      0.010 -39.347035  5.593576  29.829286\n",
              "8         0.0010      0.001 -39.436334  5.598892  29.828821"
            ],
            "text/html": [
              "\n",
              "  <div id=\"df-86483aa0-0826-4b29-8054-aa0124dbbb68\">\n",
              "    <div class=\"colab-df-container\">\n",
              "      <div>\n",
              "<style scoped>\n",
              "    .dataframe tbody tr th:only-of-type {\n",
              "        vertical-align: middle;\n",
              "    }\n",
              "\n",
              "    .dataframe tbody tr th {\n",
              "        vertical-align: top;\n",
              "    }\n",
              "\n",
              "    .dataframe thead th {\n",
              "        text-align: right;\n",
              "    }\n",
              "</style>\n",
              "<table border=\"1\" class=\"dataframe\">\n",
              "  <thead>\n",
              "    <tr style=\"text-align: right;\">\n",
              "      <th></th>\n",
              "      <th>Learning Rate</th>\n",
              "      <th>Tolerance</th>\n",
              "      <th>w0</th>\n",
              "      <th>w1</th>\n",
              "      <th>Error</th>\n",
              "    </tr>\n",
              "  </thead>\n",
              "  <tbody>\n",
              "    <tr>\n",
              "      <th>0</th>\n",
              "      <td>0.0001</td>\n",
              "      <td>0.100</td>\n",
              "      <td>-38.453882</td>\n",
              "      <td>5.540409</td>\n",
              "      <td>29.875812</td>\n",
              "    </tr>\n",
              "    <tr>\n",
              "      <th>1</th>\n",
              "      <td>0.0001</td>\n",
              "      <td>0.010</td>\n",
              "      <td>-39.347020</td>\n",
              "      <td>5.593575</td>\n",
              "      <td>29.829286</td>\n",
              "    </tr>\n",
              "    <tr>\n",
              "      <th>2</th>\n",
              "      <td>0.0001</td>\n",
              "      <td>0.001</td>\n",
              "      <td>-39.436333</td>\n",
              "      <td>5.598892</td>\n",
              "      <td>29.828821</td>\n",
              "    </tr>\n",
              "    <tr>\n",
              "      <th>3</th>\n",
              "      <td>0.0005</td>\n",
              "      <td>0.100</td>\n",
              "      <td>-38.453924</td>\n",
              "      <td>5.540411</td>\n",
              "      <td>29.875808</td>\n",
              "    </tr>\n",
              "    <tr>\n",
              "      <th>4</th>\n",
              "      <td>0.0005</td>\n",
              "      <td>0.010</td>\n",
              "      <td>-39.347025</td>\n",
              "      <td>5.593576</td>\n",
              "      <td>29.829286</td>\n",
              "    </tr>\n",
              "    <tr>\n",
              "      <th>5</th>\n",
              "      <td>0.0005</td>\n",
              "      <td>0.001</td>\n",
              "      <td>-39.436334</td>\n",
              "      <td>5.598892</td>\n",
              "      <td>29.828821</td>\n",
              "    </tr>\n",
              "    <tr>\n",
              "      <th>6</th>\n",
              "      <td>0.0010</td>\n",
              "      <td>0.100</td>\n",
              "      <td>-38.454011</td>\n",
              "      <td>5.540416</td>\n",
              "      <td>29.875800</td>\n",
              "    </tr>\n",
              "    <tr>\n",
              "      <th>7</th>\n",
              "      <td>0.0010</td>\n",
              "      <td>0.010</td>\n",
              "      <td>-39.347035</td>\n",
              "      <td>5.593576</td>\n",
              "      <td>29.829286</td>\n",
              "    </tr>\n",
              "    <tr>\n",
              "      <th>8</th>\n",
              "      <td>0.0010</td>\n",
              "      <td>0.001</td>\n",
              "      <td>-39.436334</td>\n",
              "      <td>5.598892</td>\n",
              "      <td>29.828821</td>\n",
              "    </tr>\n",
              "  </tbody>\n",
              "</table>\n",
              "</div>\n",
              "      <button class=\"colab-df-convert\" onclick=\"convertToInteractive('df-86483aa0-0826-4b29-8054-aa0124dbbb68')\"\n",
              "              title=\"Convert this dataframe to an interactive table.\"\n",
              "              style=\"display:none;\">\n",
              "        \n",
              "  <svg xmlns=\"http://www.w3.org/2000/svg\" height=\"24px\"viewBox=\"0 0 24 24\"\n",
              "       width=\"24px\">\n",
              "    <path d=\"M0 0h24v24H0V0z\" fill=\"none\"/>\n",
              "    <path d=\"M18.56 5.44l.94 2.06.94-2.06 2.06-.94-2.06-.94-.94-2.06-.94 2.06-2.06.94zm-11 1L8.5 8.5l.94-2.06 2.06-.94-2.06-.94L8.5 2.5l-.94 2.06-2.06.94zm10 10l.94 2.06.94-2.06 2.06-.94-2.06-.94-.94-2.06-.94 2.06-2.06.94z\"/><path d=\"M17.41 7.96l-1.37-1.37c-.4-.4-.92-.59-1.43-.59-.52 0-1.04.2-1.43.59L10.3 9.45l-7.72 7.72c-.78.78-.78 2.05 0 2.83L4 21.41c.39.39.9.59 1.41.59.51 0 1.02-.2 1.41-.59l7.78-7.78 2.81-2.81c.8-.78.8-2.07 0-2.86zM5.41 20L4 18.59l7.72-7.72 1.47 1.35L5.41 20z\"/>\n",
              "  </svg>\n",
              "      </button>\n",
              "      \n",
              "  <style>\n",
              "    .colab-df-container {\n",
              "      display:flex;\n",
              "      flex-wrap:wrap;\n",
              "      gap: 12px;\n",
              "    }\n",
              "\n",
              "    .colab-df-convert {\n",
              "      background-color: #E8F0FE;\n",
              "      border: none;\n",
              "      border-radius: 50%;\n",
              "      cursor: pointer;\n",
              "      display: none;\n",
              "      fill: #1967D2;\n",
              "      height: 32px;\n",
              "      padding: 0 0 0 0;\n",
              "      width: 32px;\n",
              "    }\n",
              "\n",
              "    .colab-df-convert:hover {\n",
              "      background-color: #E2EBFA;\n",
              "      box-shadow: 0px 1px 2px rgba(60, 64, 67, 0.3), 0px 1px 3px 1px rgba(60, 64, 67, 0.15);\n",
              "      fill: #174EA6;\n",
              "    }\n",
              "\n",
              "    [theme=dark] .colab-df-convert {\n",
              "      background-color: #3B4455;\n",
              "      fill: #D2E3FC;\n",
              "    }\n",
              "\n",
              "    [theme=dark] .colab-df-convert:hover {\n",
              "      background-color: #434B5C;\n",
              "      box-shadow: 0px 1px 3px 1px rgba(0, 0, 0, 0.15);\n",
              "      filter: drop-shadow(0px 1px 2px rgba(0, 0, 0, 0.3));\n",
              "      fill: #FFFFFF;\n",
              "    }\n",
              "  </style>\n",
              "\n",
              "      <script>\n",
              "        const buttonEl =\n",
              "          document.querySelector('#df-86483aa0-0826-4b29-8054-aa0124dbbb68 button.colab-df-convert');\n",
              "        buttonEl.style.display =\n",
              "          google.colab.kernel.accessAllowed ? 'block' : 'none';\n",
              "\n",
              "        async function convertToInteractive(key) {\n",
              "          const element = document.querySelector('#df-86483aa0-0826-4b29-8054-aa0124dbbb68');\n",
              "          const dataTable =\n",
              "            await google.colab.kernel.invokeFunction('convertToInteractive',\n",
              "                                                     [key], {});\n",
              "          if (!dataTable) return;\n",
              "\n",
              "          const docLinkHtml = 'Like what you see? Visit the ' +\n",
              "            '<a target=\"_blank\" href=https://colab.research.google.com/notebooks/data_table.ipynb>data table notebook</a>'\n",
              "            + ' to learn more about interactive tables.';\n",
              "          element.innerHTML = '';\n",
              "          dataTable['output_type'] = 'display_data';\n",
              "          await google.colab.output.renderOutput(dataTable, element);\n",
              "          const docLink = document.createElement('div');\n",
              "          docLink.innerHTML = docLinkHtml;\n",
              "          element.appendChild(docLink);\n",
              "        }\n",
              "      </script>\n",
              "    </div>\n",
              "  </div>\n",
              "  "
            ]
          },
          "metadata": {},
          "execution_count": 91
        }
      ]
    },
    {
      "cell_type": "markdown",
      "source": [
        "Os parâmetros que aproximam **w0** e **w1** dos valores propostos são:\n",
        "\n",
        "**Learning rate = 0.0001**\n",
        "\n",
        "**Tolerância = 0.01**"
      ],
      "metadata": {
        "id": "RMz4CJhOzaF-"
      }
    },
    {
      "cell_type": "markdown",
      "source": [
        "#Questão 6"
      ],
      "metadata": {
        "id": "S8y-oi-FrHYk"
      }
    },
    {
      "cell_type": "markdown",
      "source": [
        "Implemente a forma fechada (equações normais) de calcular os coeficientes de regressão (vide algoritmo nos slides).\n",
        "\n",
        "Compare o tempo de processamento com o gradiente descendente considerando sua solução do item 6."
      ],
      "metadata": {
        "id": "wjYh-d3rzdPf"
      }
    },
    {
      "cell_type": "code",
      "source": [
        "def q5_compute_normal_equations(x, y):\n",
        "\tx_mean = np.mean(x)\n",
        "\ty_mean = np.mean(y)\n",
        " \n",
        "\tw1 = sum((x - x_mean)*(y - y_mean)) / sum((x - x_mean)**2)\n",
        "\tw0 = y_mean - (w1 * x_mean)\n",
        " \n",
        "\treturn w0, w1\n",
        "\n",
        "\n",
        "def q6_run(filepath, learning_rate=0.0001, num_iterations=1000):\n",
        "    points = np.genfromtxt(filepath, delimiter=\",\")\n",
        "    initial_b = 0 # initial y-intercept guess\n",
        "    initial_m = 0 # initial slope guess\n",
        "    b, m = gradient_descent_runner(points, initial_b, initial_m, learning_rate, num_iterations)\n",
        "\n",
        "gradient_descent_setup = '''\n",
        "import numpy as np\n",
        "import pandas as pd\n",
        "\n",
        "from __main__ import q6_run\n",
        "from __main__ import income_data_path\n",
        "'''\n",
        "\n",
        "gradient_descent_statement = '''q6_run(income_data_path)'''\n",
        "\n",
        "normal_equations_setup = '''\n",
        "import numpy as np\n",
        "\n",
        "from __main__ import q5_compute_normal_equations\n",
        "from __main__ import income_data_path\n",
        "\n",
        "source = np.genfromtxt(income_data_path, delimiter=\",\")\n",
        "x, y = zip(*source)\n",
        "'''\n",
        "\n",
        "normal_equations_statement = '''q5_compute_normal_equations(x,y)'''\n",
        "\n",
        "iterations = 1000\n",
        "\n",
        "gradient_descent_time = timeit.timeit(setup=gradient_descent_setup,\n",
        "                                      stmt=gradient_descent_statement,\n",
        "                                      number=iterations) / iterations\n",
        "\n",
        "normal_equations_time = timeit.timeit(setup=normal_equations_setup,\n",
        "                                      stmt=normal_equations_statement,\n",
        "                                      number=iterations) / iterations\n",
        "\n",
        "source = np.genfromtxt(income_data_path, delimiter=\",\")\n",
        "x, y = zip(*source)  \n",
        "w0, w1 = q5_compute_normal_equations(x,y)                                    \n",
        "print(f'Normal equations values: w0 = {w0}, w1 = {w1}\\n')\n",
        "\n",
        "print(f'Gradient Descent mean time: {gradient_descent_time:.3f} seconds')\n",
        "print(f'Normal equations mean time: {normal_equations_time:.5f} seconds')\n",
        "\n"
      ],
      "metadata": {
        "colab": {
          "base_uri": "https://localhost:8080/"
        },
        "id": "8cKt9LBurJi7",
        "outputId": "aea367a5-f87f-433d-954d-9715ae88820b"
      },
      "execution_count": null,
      "outputs": [
        {
          "output_type": "stream",
          "name": "stdout",
          "text": [
            "Normal equations values: w0 = -39.446256679096194, w1 = 5.59948287411992\n",
            "\n",
            "Gradient Descent mean time: 0.034 seconds\n",
            "Normal equations mean time: 0.00005 seconds\n"
          ]
        }
      ]
    },
    {
      "cell_type": "markdown",
      "source": [
        "Nota-se que as equações normais apresentam tempo de execução expressivamente menor que o Gradiente Descendente.\n",
        "\n",
        "Obtendo tempo médio de execução de **0.00005 segundos** para as equações normais e **0.034 segundos** para o Gradiente Descendente.\n"
      ],
      "metadata": {
        "id": "wgE-ue9Mzfxm"
      }
    }
  ]
}